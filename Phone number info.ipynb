{
 "cells": [
  {
   "cell_type": "code",
   "execution_count": 5,
   "id": "82307758-f3ab-4f96-baa6-e7591992c3fc",
   "metadata": {},
   "outputs": [
    {
     "name": "stdin",
     "output_type": "stream",
     "text": [
      "Enter your number with +__:  +917409861076\n"
     ]
    },
    {
     "name": "stdout",
     "output_type": "stream",
     "text": [
      "Phone Number: Country Code: 91 National Number: 7409861076\n",
      "Time Zone(s): ('Asia/Calcutta',)\n",
      "Carrier: Vodafone\n",
      "Region: India\n"
     ]
    }
   ],
   "source": [
    "import phonenumbers\n",
    "from phonenumbers import timezone, geocoder, carrier\n",
    "\n",
    "number = input(\"Enter your number with +__: \")\n",
    "phone = phonenumbers.parse(number)\n",
    "time = timezone.time_zones_for_number(phone)\n",
    "car = carrier.name_for_number(phone, \"en\")\n",
    "reg = geocoder.description_for_number(phone, \"en\")\n",
    "\n",
    "print(\"Phone Number:\", phone)\n",
    "print(\"Time Zone(s):\", time)\n",
    "print(\"Carrier:\", car)\n",
    "print(\"Region:\", reg)\n"
   ]
  },
  {
   "cell_type": "code",
   "execution_count": null,
   "id": "2785e639-9449-419b-af1a-ae910bccd728",
   "metadata": {},
   "outputs": [],
   "source": []
  },
  {
   "cell_type": "code",
   "execution_count": 7,
   "id": "cbba86de-e13c-46d6-b6a2-24645e0db896",
   "metadata": {},
   "outputs": [
    {
     "name": "stdin",
     "output_type": "stream",
     "text": [
      "Enter your number with +__:  +917409861076\n"
     ]
    },
    {
     "name": "stdout",
     "output_type": "stream",
     "text": [
      "\n",
      "Phone Number Details:\n",
      "----------------------\n",
      "Phone Number: Country Code: 91 National Number: 7409861076\n",
      "Valid Number: True\n",
      "Possible Number: True\n",
      "Number Type: 1\n",
      "Time Zone(s): ('Asia/Calcutta',)\n",
      "Carrier: Vodafone\n",
      "Region: India\n"
     ]
    }
   ],
   "source": [
    "import phonenumbers\n",
    "from phonenumbers import timezone, geocoder, carrier, number_type\n",
    "\n",
    "number = input(\"Enter your number with +__: \")\n",
    "phone = phonenumbers.parse(number)\n",
    "\n",
    "# Additional Details\n",
    "is_valid = phonenumbers.is_valid_number(phone)  # Check if the number is valid\n",
    "is_possible = phonenumbers.is_possible_number(phone)  # Check if the number is possible\n",
    "num_type = phonenumbers.number_type(phone)  # Get the type of the number\n",
    "\n",
    "# Existing Details\n",
    "time = timezone.time_zones_for_number(phone)\n",
    "car = carrier.name_for_number(phone, \"en\")\n",
    "reg = geocoder.description_for_number(phone, \"en\")\n",
    "\n",
    "# Display Information\n",
    "print(\"\\nPhone Number Details:\")\n",
    "print(\"----------------------\")\n",
    "print(\"Phone Number:\", phone)\n",
    "print(\"Valid Number:\", is_valid)\n",
    "print(\"Possible Number:\", is_possible)\n",
    "print(\"Number Type:\", num_type)  # Mobile, Fixed Line, etc.\n",
    "print(\"Time Zone(s):\", time)\n",
    "print(\"Carrier:\", car)\n",
    "print(\"Region:\", reg)\n"
   ]
  },
  {
   "cell_type": "code",
   "execution_count": null,
   "id": "6bfc8114-3cf9-41f5-9813-9cf07cd3fbad",
   "metadata": {},
   "outputs": [],
   "source": []
  }
 ],
 "metadata": {
  "kernelspec": {
   "display_name": "Python 3 (ipykernel)",
   "language": "python",
   "name": "python3"
  },
  "language_info": {
   "codemirror_mode": {
    "name": "ipython",
    "version": 3
   },
   "file_extension": ".py",
   "mimetype": "text/x-python",
   "name": "python",
   "nbconvert_exporter": "python",
   "pygments_lexer": "ipython3",
   "version": "3.12.4"
  }
 },
 "nbformat": 4,
 "nbformat_minor": 5
}
