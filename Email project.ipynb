{
 "cells": [
  {
   "cell_type": "markdown",
   "id": "ec997334-0e9e-470a-99a2-6ce7002a0aaa",
   "metadata": {},
   "source": [
    "# EMAIL PROJECT"
   ]
  },
  {
   "cell_type": "code",
   "execution_count": 22,
   "id": "0b3a664b-de52-40fe-b2ab-68a969254185",
   "metadata": {},
   "outputs": [
    {
     "name": "stdin",
     "output_type": "stream",
     "text": [
      "Enter an email:  afnna@gmail.com\n"
     ]
    },
    {
     "name": "stdout",
     "output_type": "stream",
     "text": [
      "Valid email\n"
     ]
    }
   ],
   "source": [
    "email = input(\"Enter an email: \")  # Example: afnan529683@gmail.com, afnan4234@gmail.in\n",
    "\n",
    "k, j, d = 0, 0, 0\n",
    "\n",
    "if len(email) >= 9:\n",
    "    if email[0].isalpha():  # First character should be alphabetic\n",
    "        if \"@\" in email and email.count(\"@\") == 1:  # Exactly one '@' symbol\n",
    "            if email[-4] == \".\" or email[-3] == \".\":  # Dot should be in the correct position\n",
    "                for i in email:\n",
    "                    if i.isspace():  # No spaces allowed\n",
    "                        k = 1\n",
    "                    elif i.isalpha():\n",
    "                        if i.isupper():  # No uppercase letters allowed\n",
    "                            j = 1\n",
    "                    elif i.isdigit():\n",
    "                        continue\n",
    "                    elif i in \"_@.\":\n",
    "                        continue\n",
    "                    else:  # Invalid character found\n",
    "                        d = 1\n",
    "\n",
    "                if k == 1 or j == 1 or d == 1:\n",
    "                    print(\"Wrong email (invalid characters/spaces)\")\n",
    "                else:\n",
    "                    print(\"Valid email\")\n",
    "            else:\n",
    "                print(\"Wrong email (incorrect position of '.')\")\n",
    "        else:\n",
    "            print(\"Wrong email (invalid '@')\")\n",
    "    else:\n",
    "        print(\"Wrong email (first character should be alphabetic)\")\n",
    "else:\n",
    "    print(\"Wrong email (length should be at least 9 characters)\")\n"
   ]
  },
  {
   "cell_type": "markdown",
   "id": "b70ce1b1-6fd7-489f-a4cb-d6a186db74ad",
   "metadata": {},
   "source": [
    "# EMAIL VALIDATION IN RE"
   ]
  },
  {
   "cell_type": "code",
   "execution_count": 7,
   "id": "5366baf7-fcbb-42bd-ac6e-780880e2b21d",
   "metadata": {},
   "outputs": [
    {
     "name": "stderr",
     "output_type": "stream",
     "text": [
      "<>:14: SyntaxWarning: invalid escape sequence '\\.'\n",
      "<>:14: SyntaxWarning: invalid escape sequence '\\.'\n",
      "C:\\Users\\AFNANKHAN\\AppData\\Local\\Temp\\ipykernel_8592\\3012738288.py:14: SyntaxWarning: invalid escape sequence '\\.'\n",
      "  email_condition = \"^[a-z]+[\\._]?[a-z0-9]+[@]\\w+[.]\\w{2,3}$\"\n"
     ]
    },
    {
     "name": "stdin",
     "output_type": "stream",
     "text": [
      "Enter an email:  asd@gmail.com\n"
     ]
    },
    {
     "name": "stdout",
     "output_type": "stream",
     "text": [
      "Right email\n"
     ]
    }
   ],
   "source": [
    "import re  # Regular expression (regex) module ko import kiya, jo string patterns ko match karne ke liye use hota hai.\n",
    "\n",
    "# Email validation ka regex pattern banaya.\n",
    "# ^[a-z]+      -> Start (^): String ke start se match karta hai. \n",
    "#                 Email ka pehla character lowercase alphabet hona chahiye (e.g., \"a-z\").\n",
    "# [\\._]?       -> Optional (?): Ek optional dot (`.`) ya underscore (`_`) allowed hai, lekin zaruri nahi hai.\n",
    "# [a-z0-9]+    -> +: Kam se kam ek character hona zaruri hai.\n",
    "#                 Uske baad alphabets aur digits ka combination allowed hai.\n",
    "# [@]          -> Ek mandatory '@' hona chahiye, jo username aur domain ko separate karta hai.\n",
    "# \\w+          -> '@' ke baad koi bhi word characters (a-z, A-Z, 0-9, _) ka combination hona chahiye.\n",
    "# [.]\\w{2,3}$  -> [.]: Ek dot hona zaruri hai.\n",
    "#                 {2,3}: Last mein domain extension (e.g., \"com\" ya \"in\") 2-3 characters ka hona chahiye.\n",
    "#                 End ($): String ke end tak pattern match hona chahiye.\n",
    "email_condition = \"^[a-z]+[\\._]?[a-z0-9]+[@]\\w+[.]\\w{2,3}$\"\n",
    "\n",
    "# User se email input lene ke liye prompt diya.\n",
    "user_email = input('Enter an email: ')  # User se email input lene ke liye interactive message.\n",
    "\n",
    "# re.search() ka use kiya, jo regex pattern ko string mein match karta hai.\n",
    "if re.search(email_condition, user_email):  # Agar user_email regex pattern se match kare:\n",
    "    print(\"Right email\")  # To \"Right email\" print kare.\n",
    "else:\n",
    "    print(\"Wrong email\")  # Nahi to \"Wrong email\" print kare.\n"
   ]
  },
  {
   "cell_type": "code",
   "execution_count": null,
   "id": "d763e638-ff86-4387-9c19-3ae59cf5bf21",
   "metadata": {},
   "outputs": [],
   "source": []
  }
 ],
 "metadata": {
  "kernelspec": {
   "display_name": "Python 3 (ipykernel)",
   "language": "python",
   "name": "python3"
  },
  "language_info": {
   "codemirror_mode": {
    "name": "ipython",
    "version": 3
   },
   "file_extension": ".py",
   "mimetype": "text/x-python",
   "name": "python",
   "nbconvert_exporter": "python",
   "pygments_lexer": "ipython3",
   "version": "3.12.4"
  }
 },
 "nbformat": 4,
 "nbformat_minor": 5
}
