{
 "cells": [
  {
   "cell_type": "code",
   "execution_count": 183,
   "id": "d32f5a87-4a33-4915-b94e-7237d6c4d7de",
   "metadata": {},
   "outputs": [],
   "source": [
    "import pandas as pd\n",
    "import smtplib\n",
    "from email.message import EmailMessage"
   ]
  },
  {
   "cell_type": "code",
   "execution_count": 185,
   "id": "81766534-40cc-42b8-af5d-90221c033a1d",
   "metadata": {},
   "outputs": [
    {
     "data": {
      "text/html": [
       "<div>\n",
       "<style scoped>\n",
       "    .dataframe tbody tr th:only-of-type {\n",
       "        vertical-align: middle;\n",
       "    }\n",
       "\n",
       "    .dataframe tbody tr th {\n",
       "        vertical-align: top;\n",
       "    }\n",
       "\n",
       "    .dataframe thead th {\n",
       "        text-align: right;\n",
       "    }\n",
       "</style>\n",
       "<table border=\"1\" class=\"dataframe\">\n",
       "  <thead>\n",
       "    <tr style=\"text-align: right;\">\n",
       "      <th></th>\n",
       "      <th>email</th>\n",
       "      <th>Customer_ID</th>\n",
       "      <th>Name</th>\n",
       "      <th>icfc_code</th>\n",
       "      <th>Phone_Number</th>\n",
       "    </tr>\n",
       "  </thead>\n",
       "  <tbody>\n",
       "    <tr>\n",
       "      <th>0</th>\n",
       "      <td>afnank6789@gmail.com</td>\n",
       "      <td>C001</td>\n",
       "      <td>Rahul Sharma</td>\n",
       "      <td>SBIN0001234</td>\n",
       "      <td>9876543210</td>\n",
       "    </tr>\n",
       "    <tr>\n",
       "      <th>1</th>\n",
       "      <td>a30221517@gmail.com</td>\n",
       "      <td>C002</td>\n",
       "      <td>Ayesha Khan</td>\n",
       "      <td>ICIC0009876</td>\n",
       "      <td>9123456789</td>\n",
       "    </tr>\n",
       "    <tr>\n",
       "      <th>2</th>\n",
       "      <td>afnankhan529683@gmail.com</td>\n",
       "      <td>C003</td>\n",
       "      <td>Rohan Mehta</td>\n",
       "      <td>HDFC0005678</td>\n",
       "      <td>9988776655</td>\n",
       "    </tr>\n",
       "  </tbody>\n",
       "</table>\n",
       "</div>"
      ],
      "text/plain": [
       "                       email Customer_ID          Name     icfc_code  \\\n",
       "0       afnank6789@gmail.com        C001  Rahul Sharma  SBIN0001234    \n",
       "1        a30221517@gmail.com        C002   Ayesha Khan   ICIC0009876   \n",
       "2  afnankhan529683@gmail.com        C003   Rohan Mehta  HDFC0005678    \n",
       "\n",
       "   Phone_Number  \n",
       "0    9876543210  \n",
       "1    9123456789  \n",
       "2    9988776655  "
      ]
     },
     "execution_count": 185,
     "metadata": {},
     "output_type": "execute_result"
    }
   ],
   "source": [
    "df = pd.read_csv(\"Book1.csv\")\n",
    "df.head()\n"
   ]
  },
  {
   "cell_type": "code",
   "execution_count": 187,
   "id": "f1ad26c9-225a-48f2-94a4-edb3da1ad446",
   "metadata": {},
   "outputs": [
    {
     "name": "stdout",
     "output_type": "stream",
     "text": [
      "Dear {Name},\n",
      "\n",
      "We are pleased to inform you that your account has been successfully updated.\n",
      "\n",
      "👤 Name: {Name}\n",
      "🆔 Customer_ID: {Customer_ID}\n",
      "📞 Phone_Number: {Phone_Number}\n",
      "🏦 icfc_code: {icfc_code}\n",
      "📧 email: {email}\n",
      "\n",
      "If this was not you or if you need any help, please contact our support team.\n",
      "\n",
      "Thank you,  \n",
      "Your Trusted Bank\n",
      "\n"
     ]
    }
   ],
   "source": [
    "with open(\"Templete.txt\", \"r\", encoding=\"utf-8\") as f:\n",
    "    print(f.read())"
   ]
  },
  {
   "cell_type": "code",
   "execution_count": 189,
   "id": "646c2abe-32a7-4d22-bedb-2da4636e4bab",
   "metadata": {},
   "outputs": [
    {
     "data": {
      "text/plain": [
       "(235, b'2.7.0 Accepted')"
      ]
     },
     "execution_count": 189,
     "metadata": {},
     "output_type": "execute_result"
    }
   ],
   "source": [
    "#connect to gamil SMTP server\n",
    "sender_email = \"aiengineer906@gmail.com\"\n",
    "app_password = \"ypzy ktqk wrsh plrl\"\n",
    "\n",
    "server = smtplib.SMTP('smtp.gmail.com', 587)\n",
    "server.starttls()\n",
    "server.login(sender_email, app_password)\n"
   ]
  },
  {
   "cell_type": "code",
   "execution_count": 191,
   "id": "780bd3db-fe8d-4bfb-a9ea-78bb9e355a32",
   "metadata": {},
   "outputs": [
    {
     "name": "stdout",
     "output_type": "stream",
     "text": [
      "email sent to afnank6789@gmail.com\n",
      "email sent to a30221517@gmail.com\n",
      "email sent to afnankhan529683@gmail.com\n"
     ]
    },
    {
     "data": {
      "text/plain": [
       "(221,\n",
       " b'2.0.0 closing connection 98e67ed59e1d1-31c21f4a3f0sm983466a91.37 - gsmtp')"
      ]
     },
     "execution_count": 191,
     "metadata": {},
     "output_type": "execute_result"
    }
   ],
   "source": [
    "# send emails to each costumer\n",
    "for index, row in df.iterrows():\n",
    "    message_text = Templete.format(\n",
    "        Name = row['Name'],\n",
    "        Customer_ID = row['Customer_ID'],\n",
    "        Phone_Number = row['Phone_Number'],\n",
    "        icfc_code = row['icfc_code'],\n",
    "        email = row['email']\n",
    "    )\n",
    "\n",
    "    msg = EmailMessage()\n",
    "    msg['Subject'] = 'your bank account details'\n",
    "    msg['From'] = sender_email\n",
    "    msg['To'] = row['email']\n",
    "    msg.set_content(message_text)\n",
    "\n",
    "    try:\n",
    "        server.send_message(msg)\n",
    "        print(f\"email sent to {row['email']}\")\n",
    "    except Exception as e:\n",
    "        print(f\"error sending to {row['email']}: {e}\")\n",
    "\n",
    "server.quit()\n"
   ]
  },
  {
   "cell_type": "code",
   "execution_count": null,
   "id": "c9a5a724-abe3-469d-b43c-3bf4bf7e3494",
   "metadata": {},
   "outputs": [],
   "source": []
  },
  {
   "cell_type": "code",
   "execution_count": null,
   "id": "83242248-ca17-41f3-b78d-1ecabc54b08a",
   "metadata": {},
   "outputs": [],
   "source": []
  },
  {
   "cell_type": "code",
   "execution_count": null,
   "id": "82ffd153-b63a-4c25-9009-e1f49688fa3b",
   "metadata": {},
   "outputs": [],
   "source": []
  },
  {
   "cell_type": "code",
   "execution_count": null,
   "id": "2d7abb94-7688-409f-b041-8babbfca7263",
   "metadata": {},
   "outputs": [],
   "source": []
  },
  {
   "cell_type": "code",
   "execution_count": null,
   "id": "97b07072-e88f-462b-9388-6aef22e89a2a",
   "metadata": {},
   "outputs": [],
   "source": []
  }
 ],
 "metadata": {
  "kernelspec": {
   "display_name": "Python 3 (ipykernel)",
   "language": "python",
   "name": "python3"
  },
  "language_info": {
   "codemirror_mode": {
    "name": "ipython",
    "version": 3
   },
   "file_extension": ".py",
   "mimetype": "text/x-python",
   "name": "python",
   "nbconvert_exporter": "python",
   "pygments_lexer": "ipython3",
   "version": "3.12.4"
  }
 },
 "nbformat": 4,
 "nbformat_minor": 5
}
