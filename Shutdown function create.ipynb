{
 "cells": [
  {
   "cell_type": "code",
   "execution_count": null,
   "id": "771a984d-f43b-4dae-a15a-e8c9b11a171f",
   "metadata": {},
   "outputs": [],
   "source": [
    "from tkinter import *\n",
    "import os\n",
    "\n",
    "# Root window create karte hain\n",
    "st = Tk()\n",
    "st.title(\"Shutdown App\")  # Typo in 'title' fixed\n",
    "st.geometry(\"500x500\")\n",
    "st.config(bg=\"Blue\")\n",
    "\n",
    "# Button functions define karte hain\n",
    "def restart():\n",
    "    os.system(\"shutdown /r /t 1\")  # Restart the system\n",
    "\n",
    "def restart_time():\n",
    "    os.system(\"shutdown /r /t 20\")  # Restart after 20 seconds\n",
    "\n",
    "def logout():\n",
    "    os.system(\"shutdown -l\")  # Log out the system\n",
    "\n",
    "def shutdown():\n",
    "    os.system(\"shutdown /s /t 1\")  # Shut down the system\n",
    "\n",
    "# Buttons create karte hain\n",
    "r_button = Button(st, text=\"Restart\", font=(\"Arial\", 15), fg=\"white\", bg=\"red\", command=restart)\n",
    "r_button.pack(pady=20)\n",
    "\n",
    "rt_button = Button(st, text=\"Restart in 20 sec\", font=(\"Arial\", 15), fg=\"white\", bg=\"green\", command=restart_time)\n",
    "rt_button.pack(pady=20)\n",
    "\n",
    "lg_button = Button(st, text=\"Log Out\", font=(\"Arial\", 15), fg=\"white\", bg=\"orange\", command=logout)\n",
    "lg_button.pack(pady=20)\n",
    "\n",
    "st_button = Button(st, text=\"Shutdown\", font=(\"Arial\", 15), fg=\"white\", bg=\"blue\", command=shutdown)\n",
    "st_button.pack(pady=20)\n",
    "\n",
    "# Main loop to display the window\n",
    "st.mainloop()\n"
   ]
  },
  {
   "cell_type": "code",
   "execution_count": null,
   "id": "e0fd251e-251d-4000-85d1-24d7f5ceb687",
   "metadata": {},
   "outputs": [],
   "source": []
  }
 ],
 "metadata": {
  "kernelspec": {
   "display_name": "Python 3 (ipykernel)",
   "language": "python",
   "name": "python3"
  },
  "language_info": {
   "codemirror_mode": {
    "name": "ipython",
    "version": 3
   },
   "file_extension": ".py",
   "mimetype": "text/x-python",
   "name": "python",
   "nbconvert_exporter": "python",
   "pygments_lexer": "ipython3",
   "version": "3.12.4"
  }
 },
 "nbformat": 4,
 "nbformat_minor": 5
}
