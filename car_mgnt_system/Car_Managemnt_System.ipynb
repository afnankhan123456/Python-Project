{
 "cells": [
  {
   "cell_type": "code",
   "execution_count": 171,
   "id": "871788d6-47fa-4e94-b76e-ab5559bb34d1",
   "metadata": {},
   "outputs": [
    {
     "name": "stdout",
     "output_type": "stream",
     "text": [
      "Car ID: 1, Car Name: Sedan\n",
      "Car ID: 2, Car Name: SUV\n",
      "Car ID: 3, Car Name: Hatchback\n",
      "Car ID: 4, Car Name: Sports\n",
      "Car ID: 5, Car Name: EV\n"
     ]
    }
   ],
   "source": [
    "class Car_ID_Generator:\n",
    "    count = 0\n",
    "\n",
    "    def __init__(self, Car_Name):\n",
    "        self.Car_Name = Car_Name\n",
    "        Car_ID_Generator.count += 1 \n",
    "        self.Car_ID = Car_ID_Generator.count\n",
    "\n",
    "    def show_car_id_info(self): \n",
    "        return f\"Car ID: {self.Car_ID}, Car Name: {self.Car_Name}\"\n",
    "\n",
    "\n",
    "c1 = Car_ID_Generator('Sedan')\n",
    "c2 = Car_ID_Generator('SUV')\n",
    "c3 = Car_ID_Generator('Hatchback')\n",
    "c4 = Car_ID_Generator('Sports')\n",
    "c5 = Car_ID_Generator('EV')\n",
    "\n",
    "print(c1.show_car_id_info())\n",
    "print(c2.show_car_id_info())\n",
    "print(c3.show_car_id_info())\n",
    "print(c4.show_car_id_info())\n",
    "print(c5.show_car_id_info())\n"
   ]
  },
  {
   "cell_type": "code",
   "execution_count": 173,
   "id": "df8ff678-b494-42ee-9973-881149d8e09c",
   "metadata": {},
   "outputs": [],
   "source": [
    "from abc import ABC, abstractmethod\n",
    "\n",
    "class Car(Car_ID_Generator, ABC):\n",
    "    def __init__(self, Color, Model, Engine_Type, Feature):\n",
    "        super().__init__(Model)  # Car_Name = Model\n",
    "        self.Color = Color\n",
    "        self.Model = Model\n",
    "        self.Engine_Type = Engine_Type\n",
    "        self.Feature = Feature\n",
    "        self.Price = 0\n",
    "\n",
    "    @abstractmethod\n",
    "    def Calculation_Price(self):\n",
    "        pass\n",
    "\n",
    "    def Display_info(self):\n",
    "        print(f\"Car ID   : {self.Car_ID}\")\n",
    "        print(f\"Model    : {self.Model}\")\n",
    "        print(f\"Color    : {self.Color}\")\n",
    "        print(f\"Engine   : {self.Engine_Type}\")\n",
    "        print(f\"Features : {self.Feature}\")\n",
    "        print(f\"Price    : ₹{self.Price}\")\n"
   ]
  },
  {
   "cell_type": "code",
   "execution_count": 175,
   "id": "f3725eaf-f5a1-4f97-92b6-519f879692e4",
   "metadata": {},
   "outputs": [
    {
     "name": "stdout",
     "output_type": "stream",
     "text": [
      "Car ID   : 6\n",
      "Model    : Honda City\n",
      "Color    : White\n",
      "Engine   : Petrol\n",
      "Features : ['Airbags', 'Sunroof']\n",
      "Price    : ₹1101000\n",
      "------------------------------\n",
      "Car ID   : 7\n",
      "Model    : Toyota Fortuner\n",
      "Color    : Black\n",
      "Engine   : Diesel\n",
      "Features : ['Airbags', 'Sunroof']\n",
      "Price    : ₹1301000\n",
      "------------------------------\n",
      "Car ID   : 8\n",
      "Model    : Maruti Swift\n",
      "Color    : Red\n",
      "Engine   : Petrol\n",
      "Features : ['Airbags', 'Sunroof']\n",
      "Price    : ₹1001000\n",
      "------------------------------\n",
      "Car ID   : 9\n",
      "Model    : BMW M4\n",
      "Color    : Blue\n",
      "Engine   : Petrol\n",
      "Features : ['Airbags', 'Sunroof']\n",
      "Price    : ₹1501000\n",
      "------------------------------\n",
      "Car ID   : 10\n",
      "Model    : Tata Nexon EV\n",
      "Color    : Green\n",
      "Engine   : Electric\n",
      "Features : ['Airbags', 'Sunroof']\n",
      "Price    : ₹1401000\n",
      "------------------------------\n"
     ]
    }
   ],
   "source": [
    "class Sedan(Car):\n",
    "    def Calculation_Price(self):\n",
    "        self.Price = 1100000 + len(self.Feature) * 500\n",
    "        return self.Price\n",
    "\n",
    "class SUV(Car):\n",
    "    def Calculation_Price(self):\n",
    "        self.Price = 1300000 + len(self.Feature) * 500\n",
    "        return self.Price\n",
    "\n",
    "class Hatchback(Car):\n",
    "    def Calculation_Price(self):\n",
    "        self.Price = 1000000 + len(self.Feature) * 500\n",
    "        return self.Price\n",
    "\n",
    "class Sports(Car):\n",
    "    def Calculation_Price(self):\n",
    "        self.Price = 1500000 + len(self.Feature) * 500\n",
    "        return self.Price\n",
    "\n",
    "class EV(Car):\n",
    "    def Calculation_Price(self):\n",
    "        self.Price = 1400000 + len(self.Feature) * 500\n",
    "        return self.Price\n",
    "\n",
    "# Common features for all cars\n",
    "features = ['Airbags', 'Sunroof']\n",
    "\n",
    "# car displaying their info\n",
    "cars = [\n",
    "    Sedan('White', 'Honda City', 'Petrol', features),\n",
    "    SUV('Black', 'Toyota Fortuner', 'Diesel', features),\n",
    "    Hatchback('Red', 'Maruti Swift', 'Petrol', features),\n",
    "    Sports('Blue', 'BMW M4', 'Petrol', features),\n",
    "    EV('Green', 'Tata Nexon EV', 'Electric', features)\n",
    "]\n",
    "\n",
    "for car in cars:\n",
    "    car.Calculation_Price()\n",
    "    car.Display_info()\n",
    "    print(\"-\" * 30)\n"
   ]
  },
  {
   "cell_type": "code",
   "execution_count": 133,
   "id": "afb998d1-da28-42ac-8b57-ecbb04c349e1",
   "metadata": {},
   "outputs": [],
   "source": [
    "class Car_Factory:\n",
    "    def __init__(self):\n",
    "        self.car_types = {}  \n",
    "        self.cars = []       \n",
    "\n",
    "    def add_car_type(self, car_type_name, car_class):\n",
    "        self.car_types[car_type_name] = car_class\n",
    "\n",
    "    def produce_car(self, car_type, **config):\n",
    "        if car_type in self.car_types:\n",
    "            car_class = self.car_types[car_type]\n",
    "            car = car_class(**config)  # ID automatic assign hoga via inheritance\n",
    "            self.cars.append(car)\n",
    "            print(f\"{car_type} car produced successfully!\")\n",
    "            return car\n",
    "        else:\n",
    "            print(f\"Car type '{car_type}' not found.\")\n",
    "            return None\n",
    "\n",
    "    def get_all_cars(self):\n",
    "        return self.cars\n",
    "\n",
    "    def get_car_by_ID(self, car_id):\n",
    "        for car in self.cars:\n",
    "            if getattr(car, 'Car_ID', None) == car_id:\n",
    "                return car\n",
    "        return None\n",
    "\n",
    "    def get_production_stats(self):\n",
    "        stats = {}\n",
    "        for car in self.cars:\n",
    "            car_type = type(car).__name__\n",
    "            stats[car_type] = stats.get(car_type, 0) + 1\n",
    "        return stats\n",
    "\n",
    "    def remove_car(self, car_id):\n",
    "        self.cars = [car for car in self.cars if getattr(car, 'Car_ID', None) != car_id]\n",
    "\n",
    "    def search_cars(self, **filters):\n",
    "        result = self.cars\n",
    "        for attr, value in filters.items():\n",
    "            result = [car for car in result if getattr(car, attr, None) == value]\n",
    "        return result\n"
   ]
  },
  {
   "cell_type": "markdown",
   "id": "1089c234-6362-439d-8d24-4f8433609112",
   "metadata": {},
   "source": [
    "# Testing"
   ]
  },
  {
   "cell_type": "code",
   "execution_count": 141,
   "id": "24e40d1e-33e5-4f92-8b17-d0a368368a37",
   "metadata": {},
   "outputs": [
    {
     "name": "stdout",
     "output_type": "stream",
     "text": [
      "Sedan car produced successfully!\n",
      "Sedan car produced successfully!\n",
      "Sedan car produced successfully!\n",
      "EV car produced successfully!\n",
      "EV car produced successfully!\n",
      "Sports car produced successfully!\n"
     ]
    },
    {
     "data": {
      "text/plain": [
       "<__main__.Sports at 0x1c7bab061b0>"
      ]
     },
     "execution_count": 141,
     "metadata": {},
     "output_type": "execute_result"
    }
   ],
   "source": [
    "# 1. Add 5 car types (Sedan, SUV, Hatchback, ElectricCar, SportsCar). \n",
    "# 2. Produce 3 Sedans, 2 EVs, and 1 SportsCar. \n",
    "\n",
    "factory = Car_Factory()\n",
    "factory.add_car_type(\"Sedan\", Sedan)\n",
    "factory.add_car_type(\"EV\", EV)\n",
    "factory.add_car_type(\"Sports\", Sports)\n",
    "\n",
    "factory.produce_car(\"Sedan\", Color='White', Model='Honda City', Engine_Type='Petrol', Feature=['Airbags', 'Sunroof'])\n",
    "factory.produce_car(\"Sedan\", Color='Black', Model='Hyundai Verna', Engine_Type='Petrol', Feature=['Airbags', 'Sunroof'])\n",
    "factory.produce_car(\"Sedan\", Color='Grey', Model='Skoda Slavia', Engine_Type='Petrol', Feature=['Airbags', 'Sunroof'])\n",
    "\n",
    "factory.produce_car(\"EV\", Color='White', Model='Tata Nexon EV', Engine_Type='Electric', Feature=['Airbags', 'Sunroof'])\n",
    "factory.produce_car(\"EV\", Color='Blue', Model='MG ZS EV', Engine_Type='Electric', Feature=['Airbags', 'Sunroof'])\n",
    "\n",
    "factory.produce_car(\"Sports\", Color='Red', Model='BMW M4', Engine_Type='Petrol', Feature=['Airbags', 'Sunroof'])\n"
   ]
  },
  {
   "cell_type": "code",
   "execution_count": 161,
   "id": "afb3bc2c-5a0c-43ea-bc78-2fb8460f52f4",
   "metadata": {},
   "outputs": [
    {
     "name": "stdout",
     "output_type": "stream",
     "text": [
      "Car Name: Honda City\n",
      "Color: White\n",
      "Fuel Type: Petrol\n",
      "Features: Airbags, Sunroof\n",
      "------------------------------\n",
      "Car Name: Hyundai Verna\n",
      "Color: Black\n",
      "Fuel Type: Petrol\n",
      "Features: Airbags, Sunroof\n",
      "------------------------------\n",
      "Car Name: Skoda Slavia\n",
      "Color: Grey\n",
      "Fuel Type: Petrol\n",
      "Features: Airbags, Sunroof\n",
      "------------------------------\n",
      "Car Name: Tata Nexon EV\n",
      "Color: White\n",
      "Fuel Type: Electric\n",
      "Features: Airbags, Sunroof\n",
      "------------------------------\n",
      "Car Name: MG ZS EV\n",
      "Color: Blue\n",
      "Fuel Type: Electric\n",
      "Features: Airbags, Sunroof\n",
      "------------------------------\n",
      "Car Name: BMW M4\n",
      "Color: Red\n",
      "Fuel Type: Petrol\n",
      "Features: Airbags, Sunroof\n",
      "------------------------------\n"
     ]
    }
   ],
   "source": [
    "# 3. Display all produced cars.\n",
    "all_cars = factory.get_all_cars()\n",
    "\n",
    "for car in all_cars:\n",
    "    print(f\"Car Name: {car.Car_Name}\")\n",
    "    print(f\"Color: {car.Color}\")\n",
    "    print(f\"Fuel Type: {car.Engine_Type}\")\n",
    "    print(f\"Features: {', '.join(car.Feature)}\")  # ← sahi attribute\n",
    "    print(\"-\" * 30)\n"
   ]
  },
  {
   "cell_type": "code",
   "execution_count": 165,
   "id": "2cd9411c-a3eb-459c-bc22-521b14e6a58a",
   "metadata": {},
   "outputs": [
    {
     "name": "stdout",
     "output_type": "stream",
     "text": [
      "\n",
      "Production Stats:\n",
      "Sedan: 3\n",
      "EV: 2\n",
      "Sports: 1\n"
     ]
    }
   ],
   "source": [
    "# 4. Get total production stats. \n",
    "def get_production_stats(factory):\n",
    "    stats = {}\n",
    "    for car in factory.get_all_cars():\n",
    "        car_type = type(car).__name__\n",
    "        stats[car_type] = stats.get(car_type, 0) + 1\n",
    "\n",
    "    print(\"\\nProduction Stats:\")\n",
    "    for car_type, count in stats.items():\n",
    "        print(f\"{car_type}: {count}\")\n",
    "get_production_stats(factory)"
   ]
  },
  {
   "cell_type": "code",
   "execution_count": 167,
   "id": "f91a94c6-513b-48c7-b64f-28ccb9f5768b",
   "metadata": {},
   "outputs": [
    {
     "name": "stdout",
     "output_type": "stream",
     "text": [
      "Car Name: Tata Nexon EV\n",
      "Color: White\n",
      "Fuel Type: Electric\n",
      "Features: Airbags, Sunroof\n",
      "------------------------------\n"
     ]
    }
   ],
   "source": [
    "# 5.Filter all electric cars with white color. \n",
    "white_evs = [car for car in factory.get_all_cars() if car.Engine_Type.lower() == 'electric' and car.Color.lower() == 'white']\n",
    "\n",
    "for car in white_evs:\n",
    "    print(f\"Car Name: {car.Model}\")\n",
    "    print(f\"Color: {car.Color}\")\n",
    "    print(f\"Fuel Type: {car.Engine_Type}\")\n",
    "    print(f\"Features: {', '.join(car.Feature)}\")\n",
    "    print(\"-\" * 30)\n"
   ]
  },
  {
   "cell_type": "code",
   "execution_count": 179,
   "id": "006f9e77-ae7b-4d6f-9e50-a24982b01bc3",
   "metadata": {},
   "outputs": [
    {
     "name": "stdout",
     "output_type": "stream",
     "text": [
      "Car with ID 20 removed.\n"
     ]
    }
   ],
   "source": [
    "# 6. Remove 1 car from inventory\n",
    "def Car_Removed(factory, car_id):\n",
    "    for car in factory.get_all_cars():\n",
    "        if car.Car_ID == car_id:\n",
    "            factory.cars.remove(car)\n",
    "            print(f\"Car with ID {car_id} removed.\")\n",
    "            return\n",
    "    print(f\"Car with ID {car_id} not found.\")\n",
    "\n",
    "Car_Removed(factory, 20)    "
   ]
  },
  {
   "cell_type": "code",
   "execution_count": 181,
   "id": "a05275f4-51ab-462b-a7c2-736283c79abf",
   "metadata": {},
   "outputs": [
    {
     "name": "stdout",
     "output_type": "stream",
     "text": [
      "Car ID: 17 | Model: Honda City\n",
      "Car ID: 18 | Model: Hyundai Verna\n",
      "Car ID: 19 | Model: Skoda Slavia\n",
      "Car ID: 21 | Model: MG ZS EV\n",
      "Car ID: 22 | Model: BMW M4\n"
     ]
    }
   ],
   "source": [
    "for car in factory.get_all_cars():\n",
    "    print(f\"Car ID: {car.Car_ID} | Model: {car.Car_Name}\")\n"
   ]
  }
 ],
 "metadata": {
  "kernelspec": {
   "display_name": "Python 3 (ipykernel)",
   "language": "python",
   "name": "python3"
  },
  "language_info": {
   "codemirror_mode": {
    "name": "ipython",
    "version": 3
   },
   "file_extension": ".py",
   "mimetype": "text/x-python",
   "name": "python",
   "nbconvert_exporter": "python",
   "pygments_lexer": "ipython3",
   "version": "3.12.4"
  }
 },
 "nbformat": 4,
 "nbformat_minor": 5
}
