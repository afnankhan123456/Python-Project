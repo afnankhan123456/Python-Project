{
 "cells": [
  {
   "cell_type": "code",
   "execution_count": 5,
   "id": "ab733f03-a010-4327-944a-13e759e14475",
   "metadata": {},
   "outputs": [],
   "source": [
    "import qrcode as qr\n",
    "\n",
    "# QR code create karte hain\n",
    "img = qr.make(\"hellow\")\n",
    "\n",
    "# Image ko save karte hain with proper file extension\n",
    "img.save(\"text.png\")  # .png ya .jpg ka use karein\n"
   ]
  },
  {
   "cell_type": "code",
   "execution_count": null,
   "id": "7f598ad2-cf6a-4424-8d14-68a854d08953",
   "metadata": {},
   "outputs": [],
   "source": []
  },
  {
   "cell_type": "code",
   "execution_count": 19,
   "id": "fdef321b-3806-4ae7-af48-ec5d57ff78cc",
   "metadata": {},
   "outputs": [],
   "source": [
    "import qrcode\n",
    "from PIL import Image\n",
    "\n",
    "# QRCode object create karte hain\n",
    "qr = qrcode.QRCode(\n",
    "    version=1,  # QR code version (1 means smallest size)\n",
    "    error_correction=qrcode.constants.ERROR_CORRECT_H,  # High error correction\n",
    "    box_size=10,  # Size of each box in pixels\n",
    "    border=1,  # Border thickness\n",
    ")\n",
    "\n",
    "# Data QR code me add karte hain\n",
    "qr.add_data(\"https://myaccount.google.com/u/2/?utm_source=OGB&utm_medium=app&pli=1\")\n",
    "qr.make(fit=True)\n",
    "\n",
    "# QR code image generate karte hain\n",
    "img = qr.make_image(fill_color=\"red\", back_color=\"white\")\n",
    "img.save(\"gmail2.png\")  # Image ko save karte hain\n"
   ]
  },
  {
   "cell_type": "code",
   "execution_count": null,
   "id": "fc01f21b-d43b-4a5e-8c29-e72ca6ca8022",
   "metadata": {},
   "outputs": [],
   "source": []
  }
 ],
 "metadata": {
  "kernelspec": {
   "display_name": "Python 3 (ipykernel)",
   "language": "python",
   "name": "python3"
  },
  "language_info": {
   "codemirror_mode": {
    "name": "ipython",
    "version": 3
   },
   "file_extension": ".py",
   "mimetype": "text/x-python",
   "name": "python",
   "nbconvert_exporter": "python",
   "pygments_lexer": "ipython3",
   "version": "3.12.4"
  }
 },
 "nbformat": 4,
 "nbformat_minor": 5
}
